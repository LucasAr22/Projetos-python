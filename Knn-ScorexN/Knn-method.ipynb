{
 "cells": [
  {
   "cell_type": "markdown",
   "metadata": {},
   "source": [
    "### Analyzing scores of the Kneighborsclassifier algorithm for different values ​​of n_neighboors\n",
    "\n",
    "All csv data files: https://machinelearningmastery.com/standard-machine-learning-datasets/\n",
    "\n",
    "\n",
    "Data 1 - Pima Indians Diabetes\n",
    "Data 2 - Banknote Authentication"
   ]
  },
  {
   "cell_type": "code",
   "execution_count": 1,
   "metadata": {},
   "outputs": [],
   "source": [
    "import pandas as pd\n",
    "import numpy as np\n",
    "from sklearn.model_selection import train_test_split\n",
    "from sklearn.neighbors import KNeighborsClassifier\n",
    "import matplotlib.pyplot as plt\n",
    "%matplotlib notebook"
   ]
  },
  {
   "cell_type": "code",
   "execution_count": 130,
   "metadata": {},
   "outputs": [],
   "source": [
    "def Knn_n_dependence(X,y,n_max):\n",
    "    \n",
    "    \n",
    "    X_train,X_test,y_train,y_test = train_test_split(X,y,random_state=0)\n",
    "    score = []\n",
    "    \n",
    "    for n in range(1,n_max):\n",
    "        knn = KNeighborsClassifier(n_neighbors = n)\n",
    "        knn.fit(X_train,y_train)\n",
    "        score.append(knn.score(X_test,y_test))\n",
    "    \n",
    "    %matplotlib inline\n",
    "    \n",
    "    fig,axs = plt.subplots()\n",
    "    axs.set_xlabel(\"n_neighbors\")\n",
    "    axs.set_ylabel(\"Score\")\n",
    "    axs.set_title(\"Score KNN per n_neighbors\")\n",
    "    axs.set_xticks(np.arange(0,n,2))\n",
    "    \n",
    "    axs.plot(np.arange(1,n_max),score,'o-' ,linewidth = 2, color = 'black', label=\"Simulation\")\n",
    "    axs.axvline(score.index(max(score))+1,0,1, linestyle='--', color = 'red', label = 'Max = %f'%(max(scores)))\n",
    "    axs.grid()\n",
    "    axs.legend()\n",
    "    return score"
   ]
  },
  {
   "cell_type": "markdown",
   "metadata": {},
   "source": [
    "#### Colect Data 1 - Pima Indians Diabetes"
   ]
  },
  {
   "cell_type": "raw",
   "metadata": {},
   "source": [
    "Columns Data:\n",
    "\n",
    "1-Number of times pregnant.\n",
    "2-Plasma glucose concentration a 2 hours in an oral glucose tolerance test.\n",
    "3-Diastolic blood pressure (mm Hg).\n",
    "4-Triceps skinfold thickness (mm).\n",
    "5-Hour serum insulin (mu U/ml).\n",
    "6-Body mass index (weight in kg/(height in m)^2).\n",
    "7-Diabetes pedigree function.\n",
    "8-Age (years).\n",
    "9-Class variable (0 or 1)."
   ]
  },
  {
   "cell_type": "code",
   "execution_count": 111,
   "metadata": {},
   "outputs": [],
   "source": [
    "df = pd.read_csv(\"pima-indians-diabetes.csv\")\n",
    "df.columns = ['N-pregnant','Plasma-concentration','blood-pressure',\n",
    "              'Triceps-skinfold','Insulin','Body-mass','Diabete-P-func','Age','Result']"
   ]
  },
  {
   "cell_type": "code",
   "execution_count": 112,
   "metadata": {},
   "outputs": [
    {
     "data": {
      "text/html": [
       "<div>\n",
       "<style scoped>\n",
       "    .dataframe tbody tr th:only-of-type {\n",
       "        vertical-align: middle;\n",
       "    }\n",
       "\n",
       "    .dataframe tbody tr th {\n",
       "        vertical-align: top;\n",
       "    }\n",
       "\n",
       "    .dataframe thead th {\n",
       "        text-align: right;\n",
       "    }\n",
       "</style>\n",
       "<table border=\"1\" class=\"dataframe\">\n",
       "  <thead>\n",
       "    <tr style=\"text-align: right;\">\n",
       "      <th></th>\n",
       "      <th>N-pregnant</th>\n",
       "      <th>Plasma-concentration</th>\n",
       "      <th>blood-pressure</th>\n",
       "      <th>Triceps-skinfold</th>\n",
       "      <th>Insulin</th>\n",
       "      <th>Body-mass</th>\n",
       "      <th>Diabete-P-func</th>\n",
       "      <th>Age</th>\n",
       "      <th>Result</th>\n",
       "    </tr>\n",
       "  </thead>\n",
       "  <tbody>\n",
       "    <tr>\n",
       "      <th>0</th>\n",
       "      <td>1</td>\n",
       "      <td>85</td>\n",
       "      <td>66</td>\n",
       "      <td>29</td>\n",
       "      <td>0</td>\n",
       "      <td>26.6</td>\n",
       "      <td>0.351</td>\n",
       "      <td>31</td>\n",
       "      <td>0</td>\n",
       "    </tr>\n",
       "    <tr>\n",
       "      <th>1</th>\n",
       "      <td>8</td>\n",
       "      <td>183</td>\n",
       "      <td>64</td>\n",
       "      <td>0</td>\n",
       "      <td>0</td>\n",
       "      <td>23.3</td>\n",
       "      <td>0.672</td>\n",
       "      <td>32</td>\n",
       "      <td>1</td>\n",
       "    </tr>\n",
       "    <tr>\n",
       "      <th>2</th>\n",
       "      <td>1</td>\n",
       "      <td>89</td>\n",
       "      <td>66</td>\n",
       "      <td>23</td>\n",
       "      <td>94</td>\n",
       "      <td>28.1</td>\n",
       "      <td>0.167</td>\n",
       "      <td>21</td>\n",
       "      <td>0</td>\n",
       "    </tr>\n",
       "    <tr>\n",
       "      <th>3</th>\n",
       "      <td>0</td>\n",
       "      <td>137</td>\n",
       "      <td>40</td>\n",
       "      <td>35</td>\n",
       "      <td>168</td>\n",
       "      <td>43.1</td>\n",
       "      <td>2.288</td>\n",
       "      <td>33</td>\n",
       "      <td>1</td>\n",
       "    </tr>\n",
       "    <tr>\n",
       "      <th>4</th>\n",
       "      <td>5</td>\n",
       "      <td>116</td>\n",
       "      <td>74</td>\n",
       "      <td>0</td>\n",
       "      <td>0</td>\n",
       "      <td>25.6</td>\n",
       "      <td>0.201</td>\n",
       "      <td>30</td>\n",
       "      <td>0</td>\n",
       "    </tr>\n",
       "  </tbody>\n",
       "</table>\n",
       "</div>"
      ],
      "text/plain": [
       "   N-pregnant  Plasma-concentration  blood-pressure  Triceps-skinfold  \\\n",
       "0           1                    85              66                29   \n",
       "1           8                   183              64                 0   \n",
       "2           1                    89              66                23   \n",
       "3           0                   137              40                35   \n",
       "4           5                   116              74                 0   \n",
       "\n",
       "   Insulin  Body-mass  Diabete-P-func  Age  Result  \n",
       "0        0       26.6           0.351   31       0  \n",
       "1        0       23.3           0.672   32       1  \n",
       "2       94       28.1           0.167   21       0  \n",
       "3      168       43.1           2.288   33       1  \n",
       "4        0       25.6           0.201   30       0  "
      ]
     },
     "execution_count": 112,
     "metadata": {},
     "output_type": "execute_result"
    }
   ],
   "source": [
    "df.head()"
   ]
  },
  {
   "cell_type": "code",
   "execution_count": 131,
   "metadata": {},
   "outputs": [
    {
     "data": {
      "image/png": "[encoded data removed]",
      "text/plain": [
       "<Figure size 432x288 with 1 Axes>"
      ]
     },
     "metadata": {
      "needs_background": "light"
     },
     "output_type": "display_data"
    }
   ],
   "source": [
    "X = df[df.columns.difference(['Result'])]\n",
    "y = df['Result']\n",
    "scores = Knn_n_dependence(X,y,20)"
   ]
  },
  {
   "cell_type": "markdown",
   "metadata": {},
   "source": [
    "#### Collect data 2 - Banknote Authentication"
   ]
  },
  {
   "cell_type": "raw",
   "metadata": {},
   "source": [
    "Columns database:\n",
    "\n",
    "1-Variance of Wavelet Transformed image (continuous).\n",
    "2-Skewness of Wavelet Transformed image (continuous).\n",
    "3-Kurtosis of Wavelet Transformed image (continuous).\n",
    "4-Entropy of image (continuous).\n",
    "5-Class (0 for authentic, 1 for inauthentic)."
   ]
  },
  {
   "cell_type": "code",
   "execution_count": 132,
   "metadata": {},
   "outputs": [],
   "source": [
    "dfbk = pd.read_csv(\"data_banknote_authentication.txt\")\n",
    "dfbk.columns = ['Variance','Skewness','Kurtosis','Entropy','target']"
   ]
  },
  {
   "cell_type": "code",
   "execution_count": 134,
   "metadata": {},
   "outputs": [
    {
     "data": {
      "text/html": [
       "<div>\n",
       "<style scoped>\n",
       "    .dataframe tbody tr th:only-of-type {\n",
       "        vertical-align: middle;\n",
       "    }\n",
       "\n",
       "    .dataframe tbody tr th {\n",
       "        vertical-align: top;\n",
       "    }\n",
       "\n",
       "    .dataframe thead th {\n",
       "        text-align: right;\n",
       "    }\n",
       "</style>\n",
       "<table border=\"1\" class=\"dataframe\">\n",
       "  <thead>\n",
       "    <tr style=\"text-align: right;\">\n",
       "      <th></th>\n",
       "      <th>Variance</th>\n",
       "      <th>Skewness</th>\n",
       "      <th>Kurtosis</th>\n",
       "      <th>Entropy</th>\n",
       "      <th>target</th>\n",
       "    </tr>\n",
       "  </thead>\n",
       "  <tbody>\n",
       "    <tr>\n",
       "      <th>0</th>\n",
       "      <td>4.54590</td>\n",
       "      <td>8.1674</td>\n",
       "      <td>-2.4586</td>\n",
       "      <td>-1.46210</td>\n",
       "      <td>0</td>\n",
       "    </tr>\n",
       "    <tr>\n",
       "      <th>1</th>\n",
       "      <td>3.86600</td>\n",
       "      <td>-2.6383</td>\n",
       "      <td>1.9242</td>\n",
       "      <td>0.10645</td>\n",
       "      <td>0</td>\n",
       "    </tr>\n",
       "    <tr>\n",
       "      <th>2</th>\n",
       "      <td>3.45660</td>\n",
       "      <td>9.5228</td>\n",
       "      <td>-4.0112</td>\n",
       "      <td>-3.59440</td>\n",
       "      <td>0</td>\n",
       "    </tr>\n",
       "    <tr>\n",
       "      <th>3</th>\n",
       "      <td>0.32924</td>\n",
       "      <td>-4.4552</td>\n",
       "      <td>4.5718</td>\n",
       "      <td>-0.98880</td>\n",
       "      <td>0</td>\n",
       "    </tr>\n",
       "    <tr>\n",
       "      <th>4</th>\n",
       "      <td>4.36840</td>\n",
       "      <td>9.6718</td>\n",
       "      <td>-3.9606</td>\n",
       "      <td>-3.16250</td>\n",
       "      <td>0</td>\n",
       "    </tr>\n",
       "  </tbody>\n",
       "</table>\n",
       "</div>"
      ],
      "text/plain": [
       "   Variance  Skewness  Kurtosis  Entropy  target\n",
       "0   4.54590    8.1674   -2.4586 -1.46210       0\n",
       "1   3.86600   -2.6383    1.9242  0.10645       0\n",
       "2   3.45660    9.5228   -4.0112 -3.59440       0\n",
       "3   0.32924   -4.4552    4.5718 -0.98880       0\n",
       "4   4.36840    9.6718   -3.9606 -3.16250       0"
      ]
     },
     "execution_count": 134,
     "metadata": {},
     "output_type": "execute_result"
    }
   ],
   "source": [
    "dfbk.head()"
   ]
  },
  {
   "cell_type": "code",
   "execution_count": 133,
   "metadata": {},
   "outputs": [
    {
     "data": {
      "image/png": "[encoded data removed]",
      "text/plain": [
       "<Figure size 432x288 with 1 Axes>"
      ]
     },
     "metadata": {
      "needs_background": "light"
     },
     "output_type": "display_data"
    }
   ],
   "source": [
    "X = dfbk[dfbk.columns.difference(['target'])]\n",
    "y = dfbk['target']\n",
    "\n",
    "scores = Knn_n_dependence(X,y,n_max=30)"
   ]
  },
  {
   "cell_type": "code",
   "execution_count": null,
   "metadata": {
    "jupyter": {
     "source_hidden": true
    }
   },
   "outputs": [],
   "source": []
  }
 ],
 "metadata": {
  "kernelspec": {
   "display_name": "Python 3",
   "language": "python",
   "name": "python3"
  },
  "language_info": {
   "codemirror_mode": {
    "name": "ipython",
    "version": 3
   },
   "file_extension": ".py",
   "mimetype": "text/x-python",
   "name": "python",
   "nbconvert_exporter": "python",
   "pygments_lexer": "ipython3",
   "version": "3.7.6"
  }
 },
 "nbformat": 4,
 "nbformat_minor": 4
}
